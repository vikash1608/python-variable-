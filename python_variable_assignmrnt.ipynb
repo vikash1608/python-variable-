{
 "cells": [
  {
   "cell_type": "markdown",
   "id": "f58a68e6-0be5-4a9e-93df-3d96f2c18afc",
   "metadata": {},
   "source": [
    "Write all the conventions being followed while declaring a variable."
   ]
  },
  {
   "cell_type": "markdown",
   "id": "516fe612-0e35-4483-92c4-d30724ada99e",
   "metadata": {},
   "source": [
    "1. A variable code must start with alphabate and underscore. A variable name can be alpha numeric. \n",
    "2. Special character (!@#$%^&*) should not be used in varibale name.\n",
    "3. A variable name can not start from number but can start from _ (underscore).\n",
    "4. Variable name are case sensetive a and A are diffrenet variable. "
   ]
  },
  {
   "cell_type": "markdown",
   "id": "0f2d6d7b-8175-4eac-88c1-901334ac8e51",
   "metadata": {},
   "source": [
    "What will happen if we declare a restricted keyword as a variable?"
   ]
  },
  {
   "cell_type": "markdown",
   "id": "faecdc88-3a6d-4bc9-ac39-f0f78fa2b80c",
   "metadata": {},
   "source": [
    "If we declear a restricted keyword as a variable, it will show syntex error. "
   ]
  },
  {
   "cell_type": "markdown",
   "id": "b4b58179-46af-4381-a4cf-6db5b8d1cc08",
   "metadata": {},
   "source": [
    "Can we actually declare a string as a variable name?"
   ]
  },
  {
   "cell_type": "markdown",
   "id": "b22903c8-a254-463c-9bb8-bbdc690de44e",
   "metadata": {},
   "source": [
    "Yes, we can declear a string as a variable name in '' or \"\" ."
   ]
  },
  {
   "cell_type": "markdown",
   "id": "89188022-746f-4c72-9735-46c46c9d440c",
   "metadata": {},
   "source": [
    "Is it possible for us to declare “_” as a variable? If so, then write an example of it."
   ]
  },
  {
   "cell_type": "code",
   "execution_count": 6,
   "id": "43de8aac-c10b-4732-a210-322e1a2aefcb",
   "metadata": {},
   "outputs": [],
   "source": [
    "_a=2"
   ]
  },
  {
   "cell_type": "markdown",
   "id": "8dec8545-b12b-4aa5-bdf2-5c5caf390efa",
   "metadata": {},
   "source": [
    "yes, it is possible"
   ]
  },
  {
   "cell_type": "markdown",
   "id": "bd7804a6-80c2-446d-be7c-e487b15a909e",
   "metadata": {},
   "source": [
    "Using an example, explain how the variables in python are dynamic in nature."
   ]
  },
  {
   "cell_type": "code",
   "execution_count": 7,
   "id": "9ad51142-6c76-415f-b030-c5ddde1b382b",
   "metadata": {},
   "outputs": [],
   "source": [
    "a=2"
   ]
  },
  {
   "cell_type": "code",
   "execution_count": 8,
   "id": "5cd9f33b-c570-4988-82ca-01e4da4c65c4",
   "metadata": {},
   "outputs": [
    {
     "data": {
      "text/plain": [
       "2"
      ]
     },
     "execution_count": 8,
     "metadata": {},
     "output_type": "execute_result"
    }
   ],
   "source": [
    "a"
   ]
  },
  {
   "cell_type": "code",
   "execution_count": 9,
   "id": "b3896da1-655b-4560-a032-a3ea19880ba4",
   "metadata": {},
   "outputs": [],
   "source": [
    "a=5"
   ]
  },
  {
   "cell_type": "code",
   "execution_count": 10,
   "id": "0bffc955-3665-4fab-b20f-9df7ebc99348",
   "metadata": {},
   "outputs": [
    {
     "data": {
      "text/plain": [
       "5"
      ]
     },
     "execution_count": 10,
     "metadata": {},
     "output_type": "execute_result"
    }
   ],
   "source": [
    "a"
   ]
  },
  {
   "cell_type": "code",
   "execution_count": null,
   "id": "102af620-95e3-4395-b28a-91dbbb5de86c",
   "metadata": {},
   "outputs": [],
   "source": [
    "The last variable decleared "
   ]
  }
 ],
 "metadata": {
  "kernelspec": {
   "display_name": "Python 3 (ipykernel)",
   "language": "python",
   "name": "python3"
  },
  "language_info": {
   "codemirror_mode": {
    "name": "ipython",
    "version": 3
   },
   "file_extension": ".py",
   "mimetype": "text/x-python",
   "name": "python",
   "nbconvert_exporter": "python",
   "pygments_lexer": "ipython3",
   "version": "3.10.8"
  }
 },
 "nbformat": 4,
 "nbformat_minor": 5
}
